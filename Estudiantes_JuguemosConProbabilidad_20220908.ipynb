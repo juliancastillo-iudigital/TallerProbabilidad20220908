{
  "nbformat": 4,
  "nbformat_minor": 0,
  "metadata": {
    "colab": {
      "provenance": [],
      "collapsed_sections": []
    },
    "kernelspec": {
      "name": "python3",
      "display_name": "Python 3"
    },
    "language_info": {
      "name": "python"
    }
  },
  "cells": [
    {
      "cell_type": "markdown",
      "source": [
        "<div align=\"left\">\n",
        "<p><img alt=\"IUDigital\" height=\"140px\" src=\"https://www.iudigital.edu.co/Style%20Library/images/logo-escudo.png\" align=\"left\" hspace=\"10px\" vspace=\"0px\"></p></div>\n",
        "<div> </div>\n",
        "<div align=\"right\">\n",
        "<p><img alt=\"Posgrado\" height=\"140px\" src=\"https://www.iudigital.edu.co/OfertaEducativa/PublishingImages/Paginas/Especializacion-En-Analitica-y-Big-Data/19072021_Posgrados_Big_Data_1200px.jpg\" align=\"right\" hspace=\"10px\" vspace=\"10px\"></p></div>\n",
        "<br></br>\n",
        "<br></br>\n",
        "<br></br>\n",
        "<br></br>\n",
        "<p>\n",
        "<h1> <b> Taller \"Juguemos con la probabilidad\" </b> </h1>\n",
        "<hr size=10 noshade color=\"red\">\n",
        "</p>\n",
        "<p>\n",
        "<img alt=\"CC\" height=\"70px\" src=\"https://creativecommons.org/images/deed/cc_blue_x2.png\" align=\"left\" hspace=\"0px\" vspace=\"0px\">\n",
        "<img alt=\"Attribution\" height=\"70px\" src=\"https://creativecommons.org/images/deed/attribution_icon_blue_x2.png\" align=\"left\" hspace=\"0px\" vspace=\"0px\">\n",
        "<img alt=\"NC\" height=\"70px\" src=\"https://creativecommons.org/images/deed/nc_blue_x2.png\" align=\"left\" hspace=\"0px\" vspace=\"0px\">\n",
        "<img alt=\"SA\" height=\"70px\" src=\"https://creativecommons.org/images/deed/sa_blue_x2.png\" align=\"left\" hspace=\"0px\" vspace=\"0px\">\n",
        "</p>\n",
        "\n",
        "<div align=\"right\">\n",
        "<h1> <b> Por: Julián Andrés Castillo y Cesar Felipe Heano</b> </h1>\n",
        "<h2> Profesores Ocasionales </h2>\n",
        "</div>\n",
        "\n",
        "<br>\n",
        "\n",
        "**El presente taller hace parte del Posgrado en Analítica y Big Data de la Institución Universitaria Digital de Antioquia.**\n",
        "\n",
        "**En caso de utilizar el presente contenido favor citarlo y brindar los créditos respectivos.**"
      ],
      "metadata": {
        "id": "fYleIuwG8CGC"
      }
    },
    {
      "cell_type": "markdown",
      "metadata": {
        "id": "7N2pw4EB8eCG"
      },
      "source": [
        "## Introducción - Simular el lanzamiento de una moneda\n",
        "\n",
        "Para el lanzamiento de la moneda necesitamos determinar sus probabilidades.\n",
        "\n",
        "\n",
        "1.   Probabilidad Cara\n",
        "2.   Probabilidad Sello\n",
        "3.   Probabilidad Lomo\n",
        "\n",
        "Valor | Probabilidad\n",
        "---|---\n",
        "Probabilidad Cara | 49.5%\n",
        "Probabilidad Sello | 49.5%\n",
        "Probabilidad Lomo | 01.0%\n",
        "\n",
        "\n"
      ]
    },
    {
      "cell_type": "code",
      "source": [
        "#Solución"
      ],
      "metadata": {
        "id": "PUujh588CKYz"
      },
      "execution_count": null,
      "outputs": []
    },
    {
      "cell_type": "markdown",
      "metadata": {
        "id": "B8K-cUOjDNwx"
      },
      "source": [
        "## Introducción - Simular el lanzamiento de dos monedas\n",
        "\n",
        "Para el lanzamiento de las monedas ¿podemos utilizar el metodo previo?"
      ]
    },
    {
      "cell_type": "code",
      "source": [
        "#Solución"
      ],
      "metadata": {
        "id": "l_sI2m2c-WwE"
      },
      "execution_count": null,
      "outputs": []
    },
    {
      "cell_type": "markdown",
      "metadata": {
        "id": "e-gFBVyFDe4M"
      },
      "source": [
        "## Introducción - Simular el lanzamiento de un dado\n",
        "\n",
        "Para el lanzamiento de un dado necesitamos estimar las probabilidades del dado."
      ]
    },
    {
      "cell_type": "code",
      "source": [
        "#Solución"
      ],
      "metadata": {
        "id": "CJ6bGiin-Yfy"
      },
      "execution_count": null,
      "outputs": []
    },
    {
      "cell_type": "markdown",
      "metadata": {
        "id": "BXGQlAUyHkXB"
      },
      "source": [
        "## Simular un juego de Bingo sin repetir letra y numero generado.\n",
        "### Bingo 75\n",
        "\n",
        "Es el Bingo americano, muy jugado en red. Tiene formato de cartón y juego de 24 números sobre 75 (la casilla central no tiene número). Basado en la realización de figuras dentro del cartón se pueden obtener diferentes posibilidades de premios de bingo (líneas, diagonales, cruces, etc...). Estas figuras se llaman “patrones”, y cada juego tiene uno o más patrones que dan premio. La composición del cartón es la siguiente: en la columna “B” se ubican los números entre el 1 y el 15, en la columna “I” los números del 16 al 30, en la “N” los números del 31 al 45, en la “G” del 46 al 60 y finalmente en la columna “O” los números del 61 al 75. Los patrones para premios de Bingo como se ha dicho antes, pueden ser de cualquier forma: en diagonal, línea, cruces, cuadrados, letras... En cada juego se especifica qué patrón da premio.\n",
        "\n",
        "![Bingo75](https://upload.wikimedia.org/wikipedia/commons/4/47/Cartonbingo.jpg)\n",
        "\n",
        "El ejercicio consiste en crear un cartón de BINGO o en su defecto 'n' cartones utilizando una función que retorne una matriz."
      ]
    },
    {
      "cell_type": "code",
      "source": [
        "#Solución"
      ],
      "metadata": {
        "id": "4oJJax2m-aRb"
      },
      "execution_count": null,
      "outputs": []
    },
    {
      "cell_type": "markdown",
      "metadata": {
        "id": "m_AB7osfJtmb"
      },
      "source": [
        "## Simular una mano de dominó.\n",
        "### Dominó\n",
        "\n",
        "El dominó es un juego de mesa en el que se juegan y emplean unas fichas (baldosas) rectangulares, generalmente blancas por la cara y negras por el envés, usualmente hay de diferentes colores, aunque existen muchas variantes. Una de sus caras está dividida por dos cuadrados, cada uno de los cuales está numerado normalmente mediante disposiciones de puntos como los dados.\n",
        "La puntuación habitual es de cero a seis puntos, lo que compone un total de 28 piezas de dominó siendo la ficha más grande la del seis doble. Existen otras variantes de 55, 91, 136 y 190 piezas. Por ejemplo, en Cuba se juega con 28 piezas en la zona oriental, mientras que en el centro y occidente, incluyendo la capital, se juega con 55 fichas (Doble 9). El jugador que gana sin fichas son 3 puntos y por medio de puntos son 2. Si un jugador al de la partida obtiene cuatro fichas con iguales números en ambos lados es considerado como victorioso y la partida será reiniciada.\n",
        "\n",
        "![Dominó](https://upload.wikimedia.org/wikipedia/commons/a/ae/Dominospiel.JPG)"
      ]
    },
    {
      "cell_type": "code",
      "source": [
        "#Solución"
      ],
      "metadata": {
        "id": "iqkQyiO6-boI"
      },
      "execution_count": null,
      "outputs": []
    },
    {
      "cell_type": "markdown",
      "source": [
        "# Piedra Papel o Tijera\n",
        "\n",
        "Piedra, papel o tijera(s), conocido también como chin guas pul, pikachú, cachipún, jankenpón, yan ken po, pin pon papas, hakembó o how-are-you-speak, es un juego de manos infantil, en el que existen tres elementos: la piedra que vence a la tijera rompiéndola, la tijera que vence al papel cortándolo y el papel que vence a la piedra envolviéndola, dando lugar a un círculo o ciclo cerrado, que caracteriza al juego. Se utiliza con mucha frecuencia para decidir quién de dos personas hará algo, tal y como se hace a veces usando una moneda, o para dirimir algún asunto. (Tomado de [Wikipedia](https://es.wikipedia.org/wiki/Piedra,_papel_o_tijera))"
      ],
      "metadata": {
        "id": "Mzr8BwyVBIJD"
      }
    },
    {
      "cell_type": "code",
      "source": [
        "#Solución"
      ],
      "metadata": {
        "id": "M-YGCAhk4P1p"
      },
      "execution_count": null,
      "outputs": []
    },
    {
      "cell_type": "markdown",
      "metadata": {
        "id": "9fDvnzEVUsSR"
      },
      "source": [
        "##Ejercicio Nivel Super Sayayin:\n",
        "\n",
        "<div align=\"left\">\n",
        "<p><img alt=\"Album\" height=\"240px\" src=\"https://cdn.shopify.com/s/files/1/0325/8128/8072/products/02794_1d3da3ff-4c5e-459e-8314-8e9ec188bc6f_760x760.jpg?v=1661531431\" align=\"left\" hspace=\"10px\" vspace=\"0px\"></p></div>\n",
        "\n",
        "\n",
        "Para el presente caso recrearemos el llenado del álbum de láminas o cromos del mundial Qatar 2022. Los precios son los siguientes:\n",
        "*   Álbum \\$9900\n",
        "*   Sobre con cinco láminas o cromos \\$3500\n",
        "*   Caja con 104 sobres \\$364000\n",
        "\n",
        "<br><br><br><br>\n",
        "\n",
        "Con base en lo anterior se estima lo siguiente. El mundial cuenta con la participación de 32 selecciones de las cuales cada una cuenta con la siguiente distribución de láminas.\n",
        "*   Cada equipo cuenta con una lámina del escudo de fondo brillante la cual denominaremos “Escudo”.\n",
        "*   Cada equipo cuenta con una lámina en donde aparece una foto de todo el equipo de fútbol la cual denominaremos “Equipo”\n",
        "*   Cada equipo cuenta con 18 láminas de jugadores las cuales denominaremos “Jugadores”\n",
        "Las probabilidades de obtener una lámina de cada tipo son las siguientes:\n",
        "\n",
        "| Lámina | Probabilidad |\n",
        "|:-:|:-:|\n",
        "| Escudo | 1/10 |\n",
        "| Equipo | 2/10 |\n",
        "| Jugadores | 7/10 |\n",
        "\n",
        "Cada lamina tiene una numeración de acuerdo con la posición que ocupa el país en los grupos y el orden detallado a continuación:\n",
        "\n",
        "![](https://raw.githubusercontent.com/juliancastillo-iudigital/TallerProbabilidad20220908/main/Grupos.png)\n",
        "\n",
        "\n",
        "\n",
        "El número de lámina asignado a los escudos, equipos y jugadores es el siguiente:\n",
        "\n",
        "![](https://raw.githubusercontent.com/juliancastillo-iudigital/TallerProbabilidad20220908/main/L%C3%A1minas.png)\n",
        " \n",
        "**¿Identificas algún patrón en la asignación de los números?**\n",
        "\n",
        "Con base en lo anterior se desean conocer el costo para llenar un álbum teniendo en cuenta las posibles combinaciones de las compras de láminas para llenar el álbum. Es importante tener en cuenta que pueden existir láminas repetidas y estas se deben contabilizar para detallar cuales son los elementos faltantes y proceder con los procesos de compra.\n",
        "\n"
      ]
    },
    {
      "cell_type": "code",
      "source": [
        "#Solución"
      ],
      "metadata": {
        "id": "0-9zLao4_fl0"
      },
      "execution_count": null,
      "outputs": []
    }
  ]
}